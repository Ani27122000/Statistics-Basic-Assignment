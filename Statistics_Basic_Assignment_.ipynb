{
  "nbformat": 4,
  "nbformat_minor": 0,
  "metadata": {
    "colab": {
      "provenance": []
    },
    "kernelspec": {
      "name": "python3",
      "display_name": "Python 3"
    },
    "language_info": {
      "name": "python"
    }
  },
  "cells": [
    {
      "cell_type": "markdown",
      "source": [
        "##Statistics Basic Assignment"
      ],
      "metadata": {
        "id": "9usD2kLqD7IX"
      }
    },
    {
      "cell_type": "markdown",
      "source": [
        "[1] **What is the difference between descriptive statistics and inferential statistics? Explain with examples.**\n",
        "\n",
        "**1. Descriptive Statistics:**\n",
        "\n",
        "- **Definition:** Descriptive statistics summarize and describe the main features of a dataset.\n",
        "\n",
        "- **Reason:** To present, organize, and summarize data in a meaningful way.\n",
        "\n",
        "- **Example:**\n",
        "\n",
        "    - Suppose we collect exam scores of 40 students in a class.\n",
        "\n",
        "    - The average score (mean) is 62.\n",
        "\n",
        "    - The highest score is 85, and the lowest score is 50.\n",
        "\n",
        "    - A histogram is plotted to visualize the distribution of scores.\n",
        "\n",
        "**2. Inferential Statistics:**\n",
        "\n",
        "- **Definition:** Inferential statistics use a sample of data to make conclusions, predictions, or generalizations about a larger population.\n",
        "\n",
        "- **Reason:** To infer insights beyond the collected data.\n",
        "\n",
        "- **Example:**\n",
        "\n",
        "    Instead of surveying all 10,000 students in a university, we randomly select 200 students and calculate their average exam score (say 72).\n",
        "\n",
        "   - Using inferential statistics, we estimate the population mean score for all 10,000 students, e.g., “We are 95% confident that the average exam score of all students lies between 70 and 74.\n"
      ],
      "metadata": {
        "id": "R5Q86HODFEdN"
      }
    },
    {
      "cell_type": "markdown",
      "source": [
        "[2] **What is sampling in statistics? Explain the differences between random and stratified sampling.**\n",
        "\n",
        "\n",
        "- **Sampling:**\n",
        "- **Definition:** Sampling is the process of selecting a subset of individuals (sample) from a larger group (population) in order to study the population without having to collect data from every\n",
        "member.\n",
        "\n",
        "- **Reason:**\n",
        "   - Saves time, money, and effort\n",
        "\n",
        "   - Helps make inferences about the whole population\n",
        "\n",
        "   - Used when the population is too large to study completely.\n",
        "\n",
        "- **Random Sampling:**\n",
        "\n",
        "- **Definition:** Every individual in the population has an equal chance of being selected.\n",
        "\n",
        "- **How it works:** Use random methods (lottery, random number generators) to choose\n",
        "participants.\n",
        "\n",
        "- **Advantage:** Reduces bias, simple to implement.\n",
        "\n",
        "- **Example:**\n",
        "\n",
        "    From 1,000 students, we randomly pick 200 students using a power BI.\n",
        "\n",
        "- **Stratified Sampling:**\n",
        "\n",
        "- **Definition:** The population is divided into strata (subgroups) based on some characteristic (e.g., gender, age, income), and then random samples are taken proportionally from each stratum.\n",
        "\n",
        "- **How it works:**\n",
        "\n",
        "1. Divide the population into strata.\n",
        "\n",
        "2. Perform random sampling within each stratum.\n",
        "\n",
        "- **Advantage:** Ensures representation of all important subgroups\n",
        "\n",
        "- **Example:**\n",
        "\n",
        "    In the university of 20,000 students:\n",
        "\n",
        "  - 12,000 are male (60%)\n",
        "\n",
        "  - 8,000 are female (40%)\n",
        "\n",
        "  To survey 5,000 students:\n",
        "\n",
        "  - Take 3,000 males (60%) and 2,000 females (40%) chosen randomly.\n",
        "  \n",
        "  This way, both genders are represented proportionally.\n"
      ],
      "metadata": {
        "id": "HmN3DnNyIP4h"
      }
    },
    {
      "cell_type": "markdown",
      "source": [
        "[3] **Define mean, median, and mode. Explain why these measures of central\n",
        "tendency are important.**\n",
        "\n",
        "1.**Mean (Arithmetic Average):**\n",
        "\n",
        "- **Definition:** The mean is the sum of all values divided by the total number of values.\n",
        "\n",
        "- **Formula:** Sum of all values/ No. of values.\n",
        "\n",
        "- **Example:**\n",
        "\n",
        "    Find the mean of (10,20,30,40,50)\n",
        "\n",
        "    (10+20+30+40+50)/5 =30\n",
        "\n",
        "2. **Median:**\n",
        "\n",
        "- **Definition:** The median is the middle value when data is arranged in order.\n",
        "\n",
        "  - If the number of values is odd → middle value.\n",
        "\n",
        "  - If even → average of the two middle values.\n",
        "\n",
        "- **Example:**\n",
        "\n",
        "    - Dataset {10, 20, 30, 40, 50} → Median = 30 (middle value).\n",
        "\n",
        "    - Dataset {10, 30, 50, 70} → Median = (30 + 50) ÷ 2 = 40.\n",
        "\n",
        "3.**Mode:**\n",
        "\n",
        "- **Definition:** The mode is the value that occurs most frequently in the dataset.\n",
        "\n",
        "- **Example:**\n",
        "\n",
        "  - Dataset {10, 20, 20, 30, 40} → Mode = 20 (appears most often).\n",
        "  - Dataset {1, 2, 3, 4, 5} → No mode (all values unique).\n",
        "  - Dataset {2, 2, 3, 3, 4} → Bimodal (two modes: 2 and 3).\n",
        "\n",
        "- **Why Are These Measures Important?**\n",
        "\n",
        "1. **Summarize data simply** → Instead of looking at hundreds of numbers, we can\n",
        "describe the dataset with one central value.\n",
        "\n",
        "2. **Help in comparison** → Allows comparing different groups (e.g., average income of two cities).\n"
      ],
      "metadata": {
        "id": "X-gmmEPWKuVI"
      }
    },
    {
      "cell_type": "markdown",
      "source": [
        "[4] **Explain skewness and kurtosis. What does a positive skew imply about the\n",
        "data?**\n",
        "\n",
        "1. **Skewness:**\n",
        "\n",
        "- **Definition:** Skewness measures the asymmetry of a data distribution around its mean.\n",
        "\n",
        "2. **Kurtosis:**\n",
        "\n",
        "- **Definition:** Kurtosis measures the “tailedness” or peakedness of a distribution.\n",
        "\n",
        "3. **What Does a Positive Skew Imply?**\n",
        "\n",
        "  - The data distribution is skewed to the right.\n",
        "  - Most values are clustered on the left, with a long tail on the right.\n",
        "  - A few large/high values pull the mean upward, so:\n",
        "\n",
        "    Mean > Median > Mode\\text{Mean > Median > Mode}Mean > Median > Mode\n",
        "\n",
        "  - **Implication:** The dataset has outliers or extreme high values.\n",
        "\n",
        "- **Example:**\n",
        "\n",
        "  - **Income distribution:**  Many people earn between ₹20k–₹50k, but a few earn crores.\n",
        "  - **House prices:** Most houses are affordable, but luxury villas create a right tail.\n"
      ],
      "metadata": {
        "id": "QYrf6ByCM17o"
      }
    },
    {
      "cell_type": "markdown",
      "source": [
        "[5] **Implement a Python program to compute the mean, median, and mode of a given list of numbers.**\n",
        "\n",
        "**numbers = [12, 15, 12, 18, 19, 12, 20, 22, 19, 19, 24, 24, 24, 26, 28]**"
      ],
      "metadata": {
        "id": "AS9tSp4AOcc4"
      }
    },
    {
      "cell_type": "code",
      "source": [
        "# Given list of numbers\n",
        "numbers = [12, 15, 12, 18, 19, 12, 20, 22, 19, 19, 24, 24, 24, 26, 28]\n",
        "import statistics as stats\n",
        "# Mean\n",
        "mean_val = stats.mean(numbers)\n",
        "# Median\n",
        "median_val = stats.median(numbers)\n",
        "# Mode\n",
        "mode_val = stats.mode(numbers)\n",
        "# Display results\n",
        "print(\"Mean:\", mean_val)\n",
        "print(\"Median:\", median_val)\n",
        "print(\"Mode:\", mode_val)"
      ],
      "metadata": {
        "colab": {
          "base_uri": "https://localhost:8080/"
        },
        "id": "f0GOQHyaPTF6",
        "outputId": "4ca71c94-2e4f-4f3f-9163-fa17afa0b4e9"
      },
      "execution_count": 4,
      "outputs": [
        {
          "output_type": "stream",
          "name": "stdout",
          "text": [
            "Mean: 19.6\n",
            "Median: 19\n",
            "Mode: 12\n"
          ]
        }
      ]
    },
    {
      "cell_type": "code",
      "source": [
        "#[6]Compute the covariance and correlation coefficient between the following two datasets provided as lists in Python:\n",
        "\n",
        "#list_x = [10, 20, 30, 40, 50]\n",
        "#list_y = [15, 25, 35, 45, 60]\n",
        "\n",
        "\n",
        "import numpy as np\n",
        "# Given datasets\n",
        "list_x = [10, 20, 30, 40, 50]\n",
        "list_y = [15, 25, 35, 45, 60]\n",
        "# Convert to NumPy arrays\n",
        "x = np.array(list_x)\n",
        "y = np.array(list_y)\n",
        "# Compute covariance matrix\n",
        "cov_matrix = np.cov(x, y, bias=False) # bias=False → sample covariance\n",
        "cov_xy = cov_matrix[0, 1] # covariance between x and y\n",
        "# Compute correlation coefficient\n",
        "corr_matrix = np.corrcoef(x, y)\n",
        "corr_xy = corr_matrix[0, 1]\n",
        "# Display results\n",
        "print(\"Covariance between x and y:\", cov_xy)\n",
        "print(\"Correlation coefficient between x and y:\", corr_xy)"
      ],
      "metadata": {
        "colab": {
          "base_uri": "https://localhost:8080/"
        },
        "id": "ZgwVP74rPrEh",
        "outputId": "cf0a6c5f-8193-41d3-9dcd-07b570a9057a"
      },
      "execution_count": 5,
      "outputs": [
        {
          "output_type": "stream",
          "name": "stdout",
          "text": [
            "Covariance between x and y: 275.0\n",
            "Correlation coefficient between x and y: 0.995893206467704\n"
          ]
        }
      ]
    },
    {
      "cell_type": "code",
      "source": [
        "#[7] Write a Python script to draw a boxplot for the following numeric list and identify its outliers. Explain the result:\n",
        "\n",
        "#data = [12, 14, 14, 15, 18, 19, 19, 21, 22, 22, 23, 23, 24, 26, 29, 35]\n",
        "\n",
        "import matplotlib.pyplot as plt\n",
        "import numpy as np\n",
        "# Given data\n",
        "data = [12, 14, 14, 15, 18, 19, 19, 21, 22, 22, 23, 23, 24, 26, 29, 35]\n",
        "# Create boxplot\n",
        "plt.boxplot(data, vert=False, patch_artist=True)\n",
        "plt.title(\"Boxplot of Data with Outliers\")\n",
        "plt.xlabel(\"Values\")\n",
        "plt.show()\n",
        "# -------- Identify Outliers using IQR --------\n",
        "Q1 = np.percentile(data, 25) # First quartile (25th percentile)\n",
        "Q3 = np.percentile(data, 75) # Third quartile (75th percentile)\n",
        "IQR = Q3 - Q1 # Interquartile Range\n",
        "# Outlier condition\n",
        "lower_bound = Q1 - 1.5 * IQR\n",
        "upper_bound = Q3 + 1.5 * IQR\n",
        "outliers = [x for x in data if x < lower_bound or x > upper_bound]\n",
        "print(\"Q1:\", Q1)\n",
        "print(\"Q3:\", Q3)\n",
        "print(\"IQR:\", IQR)\n",
        "print(\"Lower Bound:\", lower_bound)\n",
        "print(\"Upper Bound:\", upper_bound)\n",
        "print(\"Outliers:\", outliers)"
      ],
      "metadata": {
        "colab": {
          "base_uri": "https://localhost:8080/",
          "height": 576
        },
        "id": "0JFePskGQjUR",
        "outputId": "12ee9d9d-7f8e-4e19-8b3b-b10e1d30898f"
      },
      "execution_count": 6,
      "outputs": [
        {
          "output_type": "display_data",
          "data": {
            "text/plain": [
              "<Figure size 640x480 with 1 Axes>"
            ],
            "image/png": "[encoded data removed]"
          },
          "metadata": {}
        },
        {
          "output_type": "stream",
          "name": "stdout",
          "text": [
            "Q1: 17.25\n",
            "Q3: 23.25\n",
            "IQR: 6.0\n",
            "Lower Bound: 8.25\n",
            "Upper Bound: 32.25\n",
            "Outliers: [35]\n"
          ]
        }
      ]
    },
    {
      "cell_type": "markdown",
      "source": [
        "[8] **You are working as a data analyst in an e-commerce company. The\n",
        "marketing team wants to know if there is a relationship between advertising spend and daily sales.**\n",
        "\n",
        "- Explain how you would use covariance and correlation to explore this\n",
        "relationship.\n",
        "- Write Python code to compute the correlation between the two lists:\n",
        "\n",
        "   - advertising_spend = [200, 250, 300, 400, 500]\n",
        "\n",
        "   - daily_sales = [2200, 2450, 2750, 3200, 4000]\n",
        "\n",
        "1. **Using Covariance and Correlation:**\n",
        "\n",
        "- **Covariance:**\n",
        "- **What it shows:** Direction of the relationship.\n",
        "   - Positive covariance → when advertising spend increases, sales tend to increase.\n",
        "   - Negative covariance → when advertising spend increases, sales tend to decrease.\n",
        "   - Near zero → no clear linear relationship.\n",
        "   \n",
        "- **Correlation:**\n",
        "\n",
        "- **What it shows:**\n",
        " Strength and direction of the linear relationship, on a standardized\n",
        " scale (-1 to +1).\n",
        "\n",
        "   - +1 → perfect positive linear relationship.\n",
        "   - -1 → perfect negative linear relationship.\n",
        "   - 0 → no linear relationship.\n"
      ],
      "metadata": {
        "id": "oCoGVktyRqJ-"
      }
    },
    {
      "cell_type": "code",
      "source": [
        "#Python Code:\n",
        "\n",
        "\n",
        "import numpy as np\n",
        "# Data\n",
        "advertising_spend = [200, 250, 300, 400, 500]\n",
        "daily_sales = [2200, 2450, 2750, 3200, 4000]\n",
        "# Convert to arrays\n",
        "x = np.array(advertising_spend)\n",
        "y = np.array(daily_sales)\n",
        "# Covariance matrix\n",
        "cov_matrix = np.cov(x, y, bias=False)\n",
        "cov_xy = cov_matrix[0, 1]\n",
        "# Correlation coefficient\n",
        "corr_matrix = np.corrcoef(x, y)\n",
        "corr_xy = corr_matrix[0, 1]\n",
        "# Display results\n",
        "print(\"Covariance between advertising spend and daily sales:\", cov_xy)\n",
        "print(\"Correlation coefficient between advertising spend and daily sales:\", corr_xy)"
      ],
      "metadata": {
        "colab": {
          "base_uri": "https://localhost:8080/"
        },
        "id": "QsbxkosWQ_8d",
        "outputId": "7491654f-ac73-4472-c6c1-83ff760d1e76"
      },
      "execution_count": 7,
      "outputs": [
        {
          "output_type": "stream",
          "name": "stdout",
          "text": [
            "Covariance between advertising spend and daily sales: 84875.0\n",
            "Correlation coefficient between advertising spend and daily sales: 0.9935824101653329\n"
          ]
        }
      ]
    },
    {
      "cell_type": "markdown",
      "source": [
        "[9] **Your team has collected customer satisfaction survey data on a scale of\n",
        "1-10 and wants to understand its distribution before launching a new product.**\n",
        "\n",
        "- Explain which summary statistics and visualizations (e.g. mean, standard\n",
        "deviation, histogram) you’d use.\n",
        "\n",
        "- Write Python code to create a histogram using Matplotlib for the survey data:\n",
        "\n",
        "  survey_scores = [7, 8, 5, 9, 6, 7, 8, 9, 10, 4, 7, 6, 9, 8, 7]\n",
        "\n",
        "-> **Answer:**\n",
        "\n",
        "1. **Which Summary Statistics and Visualizations to Use:**\n",
        "\n",
        "- **Summary Statistics:**\n",
        "\n",
        "    - Mean → the average satisfaction score (overall tendency).\n",
        "    - Median → the middle score (less affected by outliers).\n",
        "    - Mode → most common score (helps see popularity).\n",
        "    - Standard Deviation (SD) → how spread out the scores are.\n",
        "    - Minimum & Maximum → range of satisfaction.\n",
        "\n",
        "- **Visualizations:**\n",
        "\n",
        "   - Histogram → shows frequency distribution (e.g., are most customers rating 7–9?).\n",
        "   - Boxplot → highlights median, spread, and potential outliers.\n",
        "\n",
        "   - Bar chart of frequencies → for categorical-style clarity (since scores are integers 1–10).\n"
      ],
      "metadata": {
        "id": "ojhJv7XbTQ0T"
      }
    },
    {
      "cell_type": "code",
      "source": [
        "#Python Code – Histogram\n",
        "\n",
        "\n",
        "import matplotlib.pyplot as plt\n",
        "# Survey data\n",
        "survey_scores = [7, 8, 5, 9, 6, 7, 8, 9, 10, 4, 7, 6, 9, 8, 7]\n",
        "# Create histogram\n",
        "plt.hist(survey_scores, bins=6, color=\"skyblue\", edgecolor=\"black\")\n",
        "plt.title(\"Customer Satisfaction Survey Scores\")\n",
        "plt.xlabel(\"Satisfaction Score (1-10)\")\n",
        "plt.ylabel(\"Frequency\")\n",
        "plt.grid(axis=\"y\", linestyle=\"--\", alpha=0.7)\n",
        "plt.show()"
      ],
      "metadata": {
        "colab": {
          "base_uri": "https://localhost:8080/",
          "height": 472
        },
        "id": "eIo71WQfUt07",
        "outputId": "20940d37-9b19-4d94-85dd-ea887da7573c"
      },
      "execution_count": 8,
      "outputs": [
        {
          "output_type": "display_data",
          "data": {
            "text/plain": [
              "<Figure size 640x480 with 1 Axes>"
            ],
            "image/png": "[encoded data removed]"
          },
          "metadata": {}
        }
      ]
    }
  ]
}